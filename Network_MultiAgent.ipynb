{
 "cells": [
  {
   "cell_type": "code",
   "execution_count": 41,
   "id": "5ebf0b23",
   "metadata": {},
   "outputs": [],
   "source": [
    "from langchain_ollama import ChatOllama\n",
    "from langchain_core.tools import tool\n",
    "from langgraph.graph import MessagesState, StateGraph , START\n",
    "from langgraph.types import Command\n",
    "from typing_extensions import Literal\n",
    "model = ChatOllama(model=\"llama3.2\")\n",
    "@tool\n",
    "def ask_tax_advisor():\n",
    "    \"\"\"Use this tool to transfer the question to the Tax Advisor if investment advice needs tax clarification.\"\"\"\n",
    "    return \"Passing to Tax Advisor\"\n",
    "@tool\n",
    "def ask_finance_advisor():\n",
    "    \"\"\"Use this tool to transfer the question to the Finance Advisor if tax advice needs investment insight.\"\"\"\n",
    "    return \"Passing to Finance Advisor\"\n",
    "\n"
   ]
  },
  {
   "cell_type": "code",
   "execution_count": 42,
   "id": "567bfe1e",
   "metadata": {},
   "outputs": [],
   "source": [
    "# Finance Agent\n",
    "def finance_advisor(state: MessagesState) -> Command[Literal[\"tax_advisor\", \"__end__\"]]:\n",
    "    system_prompt  = (\n",
    "        \n",
    "            \"You are a Finance Advisor. Recommend investment strategies. \"\n",
    "            \"If tax concerns arise, use the 'ask_tax_advisor' tool.\"\n",
    "        )\n",
    "\n",
    "    messages = [{\"role\": \"system\", \"content\": system_prompt}] + state[\"messages\"]\n",
    "    ai_msg = model.bind_tools([ask_tax_advisor]).invoke(messages)\n",
    "    if len(ai_msg.tool_calls) > 0:\n",
    "        tool_call_id = ai_msg.tool_calls[-1][\"id\"]\n",
    "        tool_msg = {\n",
    "            \"role\": \"tool\",\n",
    "            \"content\": \"Successfully transferred\",\n",
    "            \"tool_call_id\": tool_call_id,\n",
    "        }\n",
    "        \n",
    "        return Command(\n",
    "            goto=\"tax_advisor\", update={\"messages\": [ai_msg, tool_msg]}\n",
    "        )\n",
    "    return {\"messages\": [ai_msg]}"
   ]
  },
  {
   "cell_type": "code",
   "execution_count": 43,
   "id": "d6ab3bac",
   "metadata": {},
   "outputs": [],
   "source": [
    "# Tax Agent\n",
    "def tax_advisor(state: MessagesState) -> Command[Literal[\"finance_advisor\", \"__end__\"]]:\n",
    "    system_prompt  = (\n",
    "        \n",
    "            \"You are a Tax Advisor. Provide tax advice. \"\n",
    "            \"If investment guidance is needed, use the 'ask_finance_advisor' tool.\"\n",
    "        )\n",
    "    \n",
    "    messages = [{\"role\": \"system\", \"content\": system_prompt}] + state[\"messages\"]\n",
    "    ai_msg = model.bind_tools([ask_finance_advisor]).invoke(messages)\n",
    "    if len(ai_msg.tool_calls) > 0:\n",
    "        tool_call_id = ai_msg.tool_calls[-1][\"id\"]\n",
    "        tool_msg = {\n",
    "            \"role\": \"tool\",\n",
    "            \"content\": \"Successfully transferred\",\n",
    "            \"tool_call_id\": tool_call_id,\n",
    "        }\n",
    "        return Command(goto=\"finance_advisor\", update={\"messages\": [ai_msg, tool_msg]})\n",
    "    return {\"messages\": [ai_msg]}"
   ]
  },
  {
   "cell_type": "code",
   "execution_count": 44,
   "id": "235456bc",
   "metadata": {},
   "outputs": [],
   "source": [
    "graph = StateGraph(MessagesState)\n",
    "graph.add_node(\"finance_advisor\", finance_advisor)\n",
    "graph.add_node(\"tax_advisor\", tax_advisor)\n",
    "graph.add_edge(START,\"finance_advisor\")\n",
    "app = graph.compile()"
   ]
  },
  {
   "cell_type": "code",
   "execution_count": 45,
   "id": "73557222",
   "metadata": {},
   "outputs": [
    {
     "data": {
      "image/png": "[encoded data removed]",
      "text/plain": [
       "<IPython.core.display.Image object>"
      ]
     },
     "metadata": {},
     "output_type": "display_data"
    }
   ],
   "source": [
    "from IPython.display import Image, display\n",
    "display(Image(app.get_graph().draw_mermaid_png()))"
   ]
  },
  {
   "cell_type": "code",
   "execution_count": 46,
   "id": "6df73094",
   "metadata": {},
   "outputs": [],
   "source": [
    "from langchain_core.messages import convert_to_messages\n",
    "\n",
    "\n",
    "def pretty_print_messages(update):\n",
    "    if isinstance(update, tuple):\n",
    "        ns, update = update\n",
    "        # skip parent graph updates in the printouts\n",
    "        if len(ns) == 0:\n",
    "            return\n",
    "\n",
    "        graph_id = ns[-1].split(\":\")[0]\n",
    "        print(f\"Update from subgraph {graph_id}:\")\n",
    "        print(\"\\n\")\n",
    "\n",
    "    for node_name, node_update in update.items():\n",
    "        print(f\"Update from node {node_name}:\")\n",
    "        print(\"\\n\")\n",
    "\n",
    "        for m in convert_to_messages(node_update[\"messages\"]):\n",
    "            m.pretty_print()\n",
    "        print(\"\\n\")"
   ]
  },
  {
   "cell_type": "code",
   "execution_count": 48,
   "id": "d1e34d86",
   "metadata": {},
   "outputs": [
    {
     "name": "stdout",
     "output_type": "stream",
     "text": [
      "Update from node finance_advisor:\n",
      "\n",
      "\n",
      "==================================\u001b[1m Ai Message \u001b[0m==================================\n",
      "Tool Calls:\n",
      "  ask_tax_advisor (26f1c2b4-d934-46a9-8b95-db0225e2fc9e)\n",
      " Call ID: 26f1c2b4-d934-46a9-8b95-db0225e2fc9e\n",
      "  Args:\n",
      "=================================\u001b[1m Tool Message \u001b[0m=================================\n",
      "\n",
      "Successfully transferred\n",
      "\n",
      "\n",
      "Update from node tax_advisor:\n",
      "\n",
      "\n",
      "==================================\u001b[1m Ai Message \u001b[0m==================================\n",
      "Tool Calls:\n",
      "  ask_finance_advisor (53f6fd96-71ee-42a0-8304-6a18e7956729)\n",
      " Call ID: 53f6fd96-71ee-42a0-8304-6a18e7956729\n",
      "  Args:\n",
      "    amount: 10000\n",
      "    risk_tolerance: medium\n",
      "=================================\u001b[1m Tool Message \u001b[0m=================================\n",
      "\n",
      "Successfully transferred\n",
      "\n",
      "\n",
      "Update from node finance_advisor:\n",
      "\n",
      "\n",
      "==================================\u001b[1m Ai Message \u001b[0m==================================\n",
      "\n",
      "Based on the input you provided, here is a suggested investment strategy:\n",
      "\n",
      "**Investment Strategy:**\n",
      "\n",
      "Considering your medium risk tolerance and investment amount of $10,000, I recommend a diversified portfolio that balances growth and income. Here's a suggested allocation:\n",
      "\n",
      "1. **Index Funds (40%):**\n",
      "\t* 20% in Total Stock Market Index Fund (e.g., VTSAX)\n",
      "\t* 10% in International Stock Market Index Fund (e.g., VEU)\n",
      "\t* 10% in Bond Market Index Fund (e.g., VBTLX)\n",
      "2. **Dividend-paying Stocks (30%):**\n",
      "\t* Invest in established companies with a history of paying consistent dividends, such as Johnson & Johnson (JNJ), Procter & Gamble (PG), or Coca-Cola (KO).\n",
      "3. **Real Estate Investment Trusts (REITs) (15%):**\n",
      "\t* Consider investing in REITs like Realty Income (O) or Simon Property Group (SPG) to generate rental income.\n",
      "4. **Cash and Equivalents (15%):**\n",
      "\t* Keep 10% of your portfolio in cash or short-term bonds, such as Treasury bills or commercial paper.\n",
      "\n",
      "**Why this strategy?**\n",
      "\n",
      "This diversified approach aims to:\n",
      "\n",
      "1. Reduce risk by spreading investments across asset classes.\n",
      "2. Generate growth through a mix of stocks and REITs.\n",
      "3. Provide income through dividend-paying stocks and REITs.\n",
      "4. Preserve capital with a cash allocation.\n",
      "\n",
      "Please note that this is a general recommendation, and it's essential to consider your individual financial goals, tax situation, and other factors before investing. It's always a good idea to consult with a financial advisor or conduct your own research before making investment decisions.\n",
      "\n",
      "Would you like me to elaborate on any of these points or provide additional guidance?\n",
      "\n",
      "\n"
     ]
    }
   ],
   "source": [
    "for chunk in app.stream(\n",
    "    {\"messages\": [(\"user\", \"suggests how to invest money\")]}\n",
    "):\n",
    "    pretty_print_messages(chunk)"
   ]
  },
  {
   "cell_type": "code",
   "execution_count": null,
   "id": "30c8fe7d",
   "metadata": {},
   "outputs": [],
   "source": []
  }
 ],
 "metadata": {
  "kernelspec": {
   "display_name": "langgraphenv",
   "language": "python",
   "name": "python3"
  },
  "language_info": {
   "codemirror_mode": {
    "name": "ipython",
    "version": 3
   },
   "file_extension": ".py",
   "mimetype": "text/x-python",
   "name": "python",
   "nbconvert_exporter": "python",
   "pygments_lexer": "ipython3",
   "version": "3.11.7"
  }
 },
 "nbformat": 4,
 "nbformat_minor": 5
}
