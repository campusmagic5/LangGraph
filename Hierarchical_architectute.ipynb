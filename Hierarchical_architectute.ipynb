{
 "cells": [
  {
   "cell_type": "markdown",
   "id": "aa19ef9b",
   "metadata": {},
   "source": [
    "1. basic_statistics_tool — For Statistician Agent"
   ]
  },
  {
   "cell_type": "code",
   "execution_count": 276,
   "id": "5bcd3dad",
   "metadata": {},
   "outputs": [],
   "source": [
    "# Explanation:\n",
    "# @tool: Converts the function into a LangChain tool usable by agents.\n",
    "\n",
    "# Takes a list of numbers and returns mean, median, and mode.\n",
    "\n",
    "# If an error happens (e.g., empty list), it returns a friendly error.\n",
    "\n",
    "from typing import List\n",
    "from langchain_core.tools import tool\n",
    "import statistics\n",
    "from langgraph.graph import StateGraph, START, END\n",
    "from langgraph.types import Command\n",
    "from langchain_core.messages import HumanMessage\n",
    "from langgraph.graph import MessagesState\n",
    "from langgraph.managed.is_last_step import RemainingSteps\n",
    "from typing import TypedDict, Literal\n",
    "@tool\n",
    "def basic_statistics_tool(numbers: List[float]) -> str:\n",
    "    \"\"\"\n",
    "    Calculates mean, median, and mode of a list of numbers.\n",
    "    \"\"\"\n",
    "    try:\n",
    "        mean = statistics.mean(numbers)\n",
    "        median = statistics.median(numbers)\n",
    "        mode = statistics.mode(numbers)\n",
    "        return f\"Mean: {mean}, Median: {median}, Mode: {mode}\"\n",
    "    except Exception as e:\n",
    "        return f\"Error calculating statistics: {e}\"\n"
   ]
  },
  {
   "cell_type": "markdown",
   "id": "3e484076",
   "metadata": {},
   "source": [
    "2. trend_detection_tool — For Trend Detection Agent"
   ]
  },
  {
   "cell_type": "code",
   "execution_count": 277,
   "id": "4703cba7",
   "metadata": {},
   "outputs": [],
   "source": [
    "# Explanation:\n",
    "# Checks if numbers are increasing, decreasing, or stable.\n",
    "\n",
    "# Uses simple Python logic (zip, all) — no external libraries.\n",
    "\n",
    "@tool\n",
    "def trend_detection_tool(numbers: List[float]) -> str:\n",
    "    \"\"\"\n",
    "    Detects if the trend is increasing, decreasing, or stable.\n",
    "    \"\"\"\n",
    "    if len(numbers) < 2:\n",
    "        return \"Not enough data to detect trend.\"\n",
    "\n",
    "    increasing = all(x < y for x, y in zip(numbers, numbers[1:]))\n",
    "    decreasing = all(x > y for x, y in zip(numbers, numbers[1:]))\n",
    "\n",
    "    if increasing:\n",
    "        return \"Upward trend detected.\"\n",
    "    elif decreasing:\n",
    "        return \"Downward trend detected.\"\n",
    "    else:\n",
    "        return \"No clear trend detected.\"\n"
   ]
  },
  {
   "cell_type": "markdown",
   "id": "71d0d0dc",
   "metadata": {},
   "source": [
    "3. summarize_points_tool — For Summarizer Agent"
   ]
  },
  {
   "cell_type": "code",
   "execution_count": 278,
   "id": "1ec81398",
   "metadata": {},
   "outputs": [],
   "source": [
    "# Explanation:\n",
    "# Breaks input text into sentences using .split('.').\n",
    "\n",
    "# Adds - to create bullet points.\n",
    "\n",
    "# Simple, human-readable summary.\n",
    "\n",
    "@tool\n",
    "def summarize_points_tool(text: str) -> str:\n",
    "    \"\"\"\n",
    "    Summarizes a long text into bullet points.\n",
    "    \"\"\"\n",
    "    sentences = text.split(\".\")\n",
    "    bullets = [f\"- {s.strip()}\" for s in sentences if s.strip()]\n",
    "    return \"\\n\".join(bullets)\n"
   ]
  },
  {
   "cell_type": "markdown",
   "id": "7d3c684d",
   "metadata": {},
   "source": [
    "4. report_generation_tool — For Report Writer Agent"
   ]
  },
  {
   "cell_type": "code",
   "execution_count": 279,
   "id": "cc3d1ab0",
   "metadata": {},
   "outputs": [],
   "source": [
    "# Explanation:\n",
    "# Takes a list of bullet points and wraps them inside a report format.\n",
    "\n",
    "# Adds a professional heading and ending.\n",
    "\n",
    "@tool\n",
    "def report_generation_tool(points: List[str]) -> str:\n",
    "    \"\"\"\n",
    "    Takes bullet points and generates a simple market research report.\n",
    "    \"\"\"\n",
    "    intro = \"📄 **Market Research Report**\\n\\n\"\n",
    "    body = \"\\n\".join(points)\n",
    "    outro = \"\\n\\n🔚 End of Report.\"\n",
    "\n",
    "    return intro + body + outro\n"
   ]
  },
  {
   "cell_type": "markdown",
   "id": "ee864fbb",
   "metadata": {},
   "source": [
    "Initialize LLM"
   ]
  },
  {
   "cell_type": "code",
   "execution_count": 280,
   "id": "108797e9",
   "metadata": {},
   "outputs": [],
   "source": [
    "from langchain_ollama import ChatOllama\n",
    "ollama_model = ChatOllama(model=\"llama3.2\")"
   ]
  },
  {
   "cell_type": "code",
   "execution_count": 281,
   "id": "92a2d283",
   "metadata": {},
   "outputs": [
    {
     "data": {
      "text/plain": [
       "AIMessage(content='How can I assist you today?', additional_kwargs={}, response_metadata={'model': 'llama3.2', 'created_at': '2025-04-27T21:58:08.3598013Z', 'done': True, 'done_reason': 'stop', 'total_duration': 1278377100, 'load_duration': 67170600, 'prompt_eval_count': 26, 'prompt_eval_duration': 2000000, 'eval_count': 8, 'eval_duration': 1180000000, 'message': Message(role='assistant', content='', images=None, tool_calls=None)}, id='run-64bb2dca-be03-40a9-b48d-820f19606666-0', usage_metadata={'input_tokens': 26, 'output_tokens': 8, 'total_tokens': 34})"
      ]
     },
     "execution_count": 281,
     "metadata": {},
     "output_type": "execute_result"
    }
   ],
   "source": [
    "ollama_model.invoke(\"hi\")"
   ]
  },
  {
   "cell_type": "markdown",
   "id": "328251fb",
   "metadata": {},
   "source": [
    "Define Common State Class"
   ]
  },
  {
   "cell_type": "code",
   "execution_count": 282,
   "id": "f15de6db",
   "metadata": {},
   "outputs": [],
   "source": [
    "# Explanation:\n",
    "\n",
    "# MessagesState tracks all previous messages.\n",
    "\n",
    "# next tells which agent to activate next.\n",
    "\n",
    "\n",
    "class State(MessagesState):\n",
    "    next: str  # Field to store the next agent to call\n",
    "    remaining_steps: RemainingSteps\n",
    "    "
   ]
  },
  {
   "cell_type": "markdown",
   "id": "8e6055e6",
   "metadata": {},
   "source": [
    "Create Agents one-by-one"
   ]
  },
  {
   "cell_type": "markdown",
   "id": "c20de516",
   "metadata": {},
   "source": [
    "1. Statistician Agent"
   ]
  },
  {
   "cell_type": "code",
   "execution_count": 283,
   "id": "3ad6f7f9",
   "metadata": {},
   "outputs": [],
   "source": [
    "# Explanation:\n",
    "\n",
    "# Agent uses basic_statistics_tool\n",
    "\n",
    "# Behavior is controlled by prompt (\"You are a statistician…\")\n",
    "\n",
    "from langgraph.prebuilt import create_react_agent\n",
    "\n",
    "# Create Statistician Agent\n",
    "def statistician_agent_node(state: State) -> Command[Literal[\"supervisor\"]]:\n",
    "    statistician_agent = create_react_agent(\n",
    "        ollama_model,\n",
    "        tools=[basic_statistics_tool],\n",
    "        prompt=\"You are a statistician. DO NOT generate summary and report.Use the provided tool to analyze numerical data and find mean, median, mode. DO NOT write summary. DO NOT generate report.\"\n",
    "    )\n",
    "    result = statistician_agent.invoke(state)\n",
    "    return Command(\n",
    "        update={\n",
    "            \"messages\": [\n",
    "                HumanMessage(content=result[\"messages\"][-1].content, name=\"statistician\")\n",
    "            ]\n",
    "        },\n",
    "        goto=\"supervisor\"\n",
    "    )\n"
   ]
  },
  {
   "cell_type": "markdown",
   "id": "5ecc420a",
   "metadata": {},
   "source": [
    "2. Trend Detection Agent"
   ]
  },
  {
   "cell_type": "code",
   "execution_count": 284,
   "id": "cd642cf1",
   "metadata": {},
   "outputs": [],
   "source": [
    "# Explanation:\n",
    "\n",
    "# Agent specializes in detecting trends from number lists.\n",
    "\n",
    "# Create Trend Detection Agent\n",
    "def trend_detection_agent_node(state: State) -> Command[Literal[\"supervisor\"]]:\n",
    "    trend_detection_agent = create_react_agent(\n",
    "        ollama_model,\n",
    "        tools=[trend_detection_tool],\n",
    "        prompt=\"You are a data analyst.DO NOT generate summary and report. Your job is to detect trends (upward or downward) from numerical data.DO NOT write summary. DO NOT generate report.\"\n",
    "    )\n",
    "    result = trend_detection_agent.invoke(state)\n",
    "    return Command(\n",
    "        update={\n",
    "            \"messages\": [\n",
    "                HumanMessage(content=result[\"messages\"][-1].content, name=\"trend_detector\")\n",
    "            ]\n",
    "        },\n",
    "        goto=\"supervisor\"\n",
    "    )\n"
   ]
  },
  {
   "cell_type": "markdown",
   "id": "e23b52f4",
   "metadata": {},
   "source": [
    "3. Summarizer Agent"
   ]
  },
  {
   "cell_type": "code",
   "execution_count": 285,
   "id": "16c8621c",
   "metadata": {},
   "outputs": [],
   "source": [
    "# Explanation:\n",
    "\n",
    "# Takes long text → converts to bullet points neatly.\n",
    "\n",
    "# Create Summarizer Agent\n",
    "def summarizer_agent_node(state: State) -> Command[Literal[\"supervisor\"]]:\n",
    "    summarizer_agent = create_react_agent(\n",
    "        ollama_model,\n",
    "        tools=[summarize_points_tool],\n",
    "        prompt=\"You are a content summarizer. Create bullet points from long texts.DO NOT do any math.DO NOT do any data analysis.\"\n",
    "    )\n",
    "    result = summarizer_agent.invoke(state)\n",
    "    return Command(\n",
    "        update={\n",
    "            \"messages\": [\n",
    "                HumanMessage(content=result[\"messages\"][-1].content, name=\"summarizer\")\n",
    "            ]\n",
    "        },\n",
    "        goto=\"supervisor\"\n",
    "    )\n"
   ]
  },
  {
   "cell_type": "markdown",
   "id": "84048e06",
   "metadata": {},
   "source": [
    "4. Report Writer Agent"
   ]
  },
  {
   "cell_type": "code",
   "execution_count": 286,
   "id": "6d90eb2b",
   "metadata": {},
   "outputs": [],
   "source": [
    "# Explanation:\n",
    "\n",
    "# Takes bullet points → formats them into a professional report.\n",
    "\n",
    "# Create Report Writer Agent\n",
    "def report_writer_agent_node(state: State) -> Command[Literal[\"supervisor\"]]:\n",
    "    report_writer_agent = create_react_agent(\n",
    "        ollama_model,\n",
    "        tools=[report_generation_tool],\n",
    "        prompt=\"You are a report writer. Create a formal market research report based on the given points.DO NOT do any math.DO NOT do any data analysis.\"\n",
    "    )\n",
    "    result = report_writer_agent.invoke(state)\n",
    "    return Command(\n",
    "        update={\n",
    "            \"messages\": [\n",
    "                HumanMessage(content=result[\"messages\"][-1].content, name=\"report_writer\")\n",
    "            ]\n",
    "        },\n",
    "        goto=\"supervisor\"\n",
    "    )\n"
   ]
  },
  {
   "cell_type": "markdown",
   "id": "990b7138",
   "metadata": {},
   "source": [
    "Create a generic Supervisor Node Factory"
   ]
  },
  {
   "cell_type": "code",
   "execution_count": 287,
   "id": "1c6d4e1c",
   "metadata": {},
   "outputs": [],
   "source": [
    "\n",
    "\n",
    "def make_supervisor_node(llm, members: list[str]) -> str:\n",
    "    options = [\"FINISH\"] + members\n",
    "    system_prompt = (\n",
    "            \"You are a Supervisor responsible for coordinating the following specialized workers: {members}.\\n\"\n",
    "            \"Based on the user's request and the current conversation history, select the most appropriate worker to handle the next step.\\n\"\n",
    "            \"Each worker will perform their assigned task and report back with results and status updates.\\n\"\n",
    "            \"After all necessary tasks have been completed, respond with 'FINISH' to indicate that the workflow is complete.\\n\"\n",
    "            \"Always choose only one worker at a time, based on the current context and task requirements.\"\n",
    "        )\n",
    "    # system_prompt = \"\"\"You are a Supervisor responsible for coordinating two specialized teams: {members}\n",
    "    #                 Task Flow : \n",
    "    #                 1. data_analysis_team \n",
    "    #                 2. content_writing_team\n",
    "    #                 DO NOT call the content_writing_team before data_analysis_team\n",
    "    #                 First, assign the 'data_analysis_team' to complete all necessary data analysis tasks.\n",
    "    #                 Only after the 'data_analysis_team' has completed and reported their results, assign the 'content_writing_team' to summarize findings and generate a report.\n",
    "    #                 Each team should complete its tasks fully before moving to the next.\n",
    "    #                 Select only one team at a time, based on the task progress.\n",
    "    #                 After both teams have completed their work, respond with 'FINISH' to indicate that the project is done.\"\"\"\n",
    "\n",
    "\n",
    "    class Router(TypedDict):\n",
    "        \"\"\"Worker to route to next. If no workers needed, route to FINISH.\"\"\"\n",
    "        next: Literal[*options]\n",
    "\n",
    "    def supervisor_node(state: State) -> Command[Literal[*members, \"__end__\"]]:\n",
    "        \"\"\"\n",
    "        Supervisor that respects phases: data_analysis first, content_writing later.\n",
    "        \"\"\"\n",
    "        if state[\"remaining_steps\"] <= 2:\n",
    "            return Command(goto=END)\n",
    "        \n",
    "        messages = [{\"role\": \"system\", \"content\": system_prompt}] + state[\"messages\"]\n",
    "\n",
    "        response = llm.with_structured_output(Router).invoke(messages)\n",
    "        goto = response[\"next\"]\n",
    "        if goto == \"FINISH\":\n",
    "            goto = END\n",
    "\n",
    "        return Command(goto=goto, update={\"next\": goto})\n",
    "\n",
    "    return supervisor_node"
   ]
  },
  {
   "cell_type": "markdown",
   "id": "8b0880e6",
   "metadata": {},
   "source": [
    "Create Data Analysis Supervisor"
   ]
  },
  {
   "cell_type": "code",
   "execution_count": 288,
   "id": "1ea7849e",
   "metadata": {},
   "outputs": [],
   "source": [
    "# Explanation:\n",
    "\n",
    "# Manages Statistician Agent and Trend Detection Agent.\n",
    "\n",
    "# Decides who works based on message history.\n",
    "\n",
    "# Data Analysis team members\n",
    "data_team_members = [\"statistician\", \"trend_detector\"]\n",
    "\n",
    "# Create Supervisor for Data Analysis Team\n",
    "data_analysis_supervisor_node = make_supervisor_node(ollama_model, data_team_members)\n"
   ]
  },
  {
   "cell_type": "markdown",
   "id": "80e54764",
   "metadata": {},
   "source": [
    "Create Content Writing Supervisor"
   ]
  },
  {
   "cell_type": "code",
   "execution_count": 289,
   "id": "3540d039",
   "metadata": {},
   "outputs": [],
   "source": [
    "# Explanation:\n",
    "\n",
    "# Manages Summarizer Agent and Report Writer Agent.\n",
    "\n",
    "# Content Writing team members\n",
    "content_team_members = [\"summarizer\", \"report_writer\"]\n",
    "\n",
    "# Create Supervisor for Content Writing Team\n",
    "content_writing_supervisor_node = make_supervisor_node(ollama_model, content_team_members)\n"
   ]
  },
  {
   "cell_type": "markdown",
   "id": "11bc9743",
   "metadata": {},
   "source": [
    "Data Analysis Team Graph"
   ]
  },
  {
   "cell_type": "code",
   "execution_count": 290,
   "id": "bd5bd801",
   "metadata": {},
   "outputs": [],
   "source": [
    "\n",
    "# 1. Create a StateGraph for the Data Analysis Team\n",
    "data_analysis_graph = StateGraph(State)\n",
    "\n",
    "# 2. Add nodes (Supervisor + Agents)\n",
    "data_analysis_graph.add_node(\"statistician\",statistician_agent_node )\n",
    "\n",
    "data_analysis_graph.add_node(\"trend_detector\",trend_detection_agent_node)\n",
    "\n",
    "data_analysis_graph.add_node(\"supervisor\", data_analysis_supervisor_node)\n",
    "\n",
    "# 3. Define the edges (how things flow)\n",
    "data_analysis_graph.add_edge(START, \"supervisor\")\n",
    "\n",
    "# 4. Compile the graph\n",
    "compiled_data_analysis_graph = data_analysis_graph.compile()\n"
   ]
  },
  {
   "cell_type": "code",
   "execution_count": 291,
   "id": "82e32a7a",
   "metadata": {},
   "outputs": [
    {
     "data": {
      "image/png": "[encoded data removed]",
      "text/plain": [
       "<IPython.core.display.Image object>"
      ]
     },
     "metadata": {},
     "output_type": "display_data"
    }
   ],
   "source": [
    "from IPython.display import Image, display\n",
    "display(Image(compiled_data_analysis_graph.get_graph().draw_mermaid_png()))"
   ]
  },
  {
   "cell_type": "markdown",
   "id": "cd961d6e",
   "metadata": {},
   "source": [
    "Content Writing Team Graph"
   ]
  },
  {
   "cell_type": "code",
   "execution_count": 292,
   "id": "eaaf5d84",
   "metadata": {},
   "outputs": [],
   "source": [
    "# 1. Create a StateGraph for the Content Writing Team\n",
    "content_writing_graph = StateGraph(State)\n",
    "\n",
    "# 2. Add nodes (Supervisor + Agents)\n",
    "content_writing_graph.add_node(\"summarizer\",summarizer_agent_node)\n",
    "\n",
    "content_writing_graph.add_node(\"report_writer\",report_writer_agent_node)\n",
    "\n",
    "content_writing_graph.add_node(\"supervisor\", content_writing_supervisor_node)\n",
    "\n",
    "# 3. Define edges\n",
    "content_writing_graph.add_edge(START, \"supervisor\")\n",
    "\n",
    "# 4. Compile the graph\n",
    "compiled_content_writing_graph = content_writing_graph.compile()"
   ]
  },
  {
   "cell_type": "code",
   "execution_count": 293,
   "id": "97ab342c",
   "metadata": {},
   "outputs": [
    {
     "data": {
      "image/png": "[encoded data removed]",
      "text/plain": [
       "<IPython.core.display.Image object>"
      ]
     },
     "metadata": {},
     "output_type": "display_data"
    }
   ],
   "source": [
    "from IPython.display import Image, display\n",
    "display(Image(compiled_content_writing_graph.get_graph().draw_mermaid_png()))"
   ]
  },
  {
   "cell_type": "markdown",
   "id": "70df5859",
   "metadata": {},
   "source": [
    "Define the Top-Level Supervisor Node"
   ]
  },
  {
   "cell_type": "code",
   "execution_count": 294,
   "id": "6810a537",
   "metadata": {},
   "outputs": [],
   "source": [
    "# Top-Level Supervisor Members\n",
    "top_team_members = [\"data_analysis_team\", \"content_writing_team\"]\n",
    "top_team_options = top_team_members + [\"FINISH\"]\n",
    "class Router(TypedDict):\n",
    "     \"\"\"Worker to route to next. If no workers needed, route to FINISH.\"\"\"\n",
    "     next: Literal[\"data_analysis_team\", \"content_writing_team\", \"FINISH\"]\n",
    "# Create Top Supervisor Node\n",
    "# top_supervisor_node = make_supervisor_node(ollama_model, top_team_members)\n",
    "class State(MessagesState):\n",
    "    next: str\n",
    "    remaining_steps: RemainingSteps\n",
    "    data_analysis_completed: bool = False\n",
    "\n",
    "def top_supervisor_node(state: State) -> Command[Literal[\"data_analysis_team\", \"content_writing_team\", \"__end__\"]]:\n",
    "    if state[\"remaining_steps\"] <= 2:\n",
    "        return Command(goto=END)\n",
    "    if state.get(\"data_analysis_completed\", False):\n",
    "            allowed_workers = [\"content_writing_team\"]\n",
    "    else:\n",
    "        allowed_workers = [\"data_analysis_team\"]\n",
    "\n",
    "    system_prompt = (\n",
    "            f\"You are a Supervisor coordinating teams: {top_team_members}.\\n\"\n",
    "            f\"Allowed team(s) you can call now: {allowed_workers}\\n\"\n",
    "            \"First, call 'call_data_analysis_team'. Only after it completes, call 'call_content_writing_team'.\\n\"\n",
    "            \"After both teams have completed, respond with 'FINISH'.\"\n",
    "        )\n",
    "    messages = [{\"role\": \"system\", \"content\": system_prompt}] + state[\"messages\"]\n",
    "    response = ollama_model.with_structured_output(Router).invoke(messages)\n",
    "    goto = response[\"next\"]\n",
    "    # ✅ Forcefully intercept illegal moves:\n",
    "    if goto not in allowed_workers:\n",
    "        # If LLM made an illegal choice, overwrite manually\n",
    "        goto = allowed_workers[0]\n",
    "\n",
    "    if goto == \"FINISH\":\n",
    "        goto = END\n",
    "\n",
    "    return Command(goto=goto, update={\"next\": goto})"
   ]
  },
  {
   "cell_type": "markdown",
   "id": "a5223df8",
   "metadata": {},
   "source": [
    "Call Data Analysis Team"
   ]
  },
  {
   "cell_type": "code",
   "execution_count": 295,
   "id": "b8d68496",
   "metadata": {},
   "outputs": [],
   "source": [
    "def call_data_analysis_team(state: State) -> Command[Literal[\"supervisor\"]]:\n",
    "    response = compiled_data_analysis_graph.invoke({\"messages\": state[\"messages\"][-1]})\n",
    "    return Command(\n",
    "        update={\"messages\": [HumanMessage(content=response[\"messages\"][-1].content, name=\"data_analysis_team\")],\"data_analysis_completed\": True},\n",
    "        goto=\"supervisor\"\n",
    "    )\n"
   ]
  },
  {
   "cell_type": "markdown",
   "id": "594e1e64",
   "metadata": {},
   "source": [
    "Call Content Writing Team"
   ]
  },
  {
   "cell_type": "code",
   "execution_count": 296,
   "id": "feedcfb4",
   "metadata": {},
   "outputs": [],
   "source": [
    "def call_content_writing_team(state: State) -> Command[Literal[\"supervisor\"]]:\n",
    "    response = compiled_content_writing_graph.invoke({\"messages\": state[\"messages\"][-1]})\n",
    "    return Command(\n",
    "        update={\"messages\": [HumanMessage(content=response[\"messages\"][-1].content, name=\"content_writing_team\")]},\n",
    "        goto=\"supervisor\"\n",
    "    )\n"
   ]
  },
  {
   "cell_type": "markdown",
   "id": "756146fb",
   "metadata": {},
   "source": [
    "3. Build the Final StateGraph"
   ]
  },
  {
   "cell_type": "code",
   "execution_count": 297,
   "id": "1fd992f8",
   "metadata": {},
   "outputs": [],
   "source": [
    "# 1. Create a new StateGraph for the full system\n",
    "final_graph = StateGraph(State)\n",
    "\n",
    "# 2. Add Top Supervisor and Subteams as nodes\n",
    "final_graph.add_node(\"supervisor\", top_supervisor_node)\n",
    "final_graph.add_node(\"data_analysis_team\", call_data_analysis_team)\n",
    "final_graph.add_node(\"content_writing_team\", call_content_writing_team)\n",
    "\n",
    "# 3. Define edges\n",
    "final_graph.add_edge(START, \"supervisor\")\n",
    "\n",
    "# 4. Compile the final graph\n",
    "compiled_final_graph = final_graph.compile()\n"
   ]
  },
  {
   "cell_type": "code",
   "execution_count": 298,
   "id": "dbde62aa",
   "metadata": {},
   "outputs": [
    {
     "data": {
      "image/png": "[encoded data removed]",
      "text/plain": [
       "<IPython.core.display.Image object>"
      ]
     },
     "metadata": {},
     "output_type": "display_data"
    }
   ],
   "source": [
    "from IPython.display import Image, display\n",
    "\n",
    "display(Image(compiled_final_graph.get_graph().draw_mermaid_png()))"
   ]
  },
  {
   "cell_type": "code",
   "execution_count": 299,
   "id": "f776a333",
   "metadata": {},
   "outputs": [
    {
     "name": "stdout",
     "output_type": "stream",
     "text": [
      "{'supervisor': {'next': 'data_analysis_team'}}\n",
      "---\n",
      "{'data_analysis_team': {'messages': [HumanMessage(content='Here are the findings in bullet points:\\n\\n* Mean sales figure: $123.14\\n* Median sales figure: $120\\n* Mode sales figure: $95 (highest frequency)\\n* Trend analysis: No clear trend detected, but sales appear to be increasing with fluctuations. May be affected by seasonal or external factors.\\n\\nDetailed Market Research Report:\\n\\nThe sales data for the given period shows a moderate increase in sales figures. The mean sales figure is $123.14, indicating a steady growth in revenue. However, the median sales figure of $120 suggests that there may be some fluctuation in sales patterns.\\n\\nInterestingly, the mode sales figure is $95, which indicates that this price point has the highest frequency of occurrence. This could suggest that there is a strong demand for products priced at $95.\\n\\nThe trend analysis reveals that there is no clear trend detected in the sales data. The sales figures appear to be increasing over time, but with some fluctuations. This may be due to seasonal or external factors affecting sales.\\n\\nTo better understand the sales pattern and identify potential opportunities for growth, further market research is recommended. Some possible areas of investigation include:\\n\\n* Analyzing sales data by season or quarter to identify any seasonal trends\\n* Conducting customer surveys or focus groups to understand demand patterns and preferences\\n* Monitoring economic indicators and external factors that may impact sales, such as changes in consumer spending habits or competitor activity.\\n\\nBy conducting further market research, businesses can gain a deeper understanding of the sales pattern and make informed decisions about pricing, marketing, and product development strategies.', additional_kwargs={}, response_metadata={}, name='data_analysis_team', id='9e3e814e-e29a-42b2-ad8f-e7e7abb7e8cc')], 'data_analysis_completed': True}}\n",
      "---\n",
      "{'supervisor': {'next': 'content_writing_team'}}\n",
      "---\n",
      "{'content_writing_team': {'messages': [HumanMessage(content='Here are the findings in bullet points:\\n\\n* Mean sales figure: $123.14\\n* Median sales figure: $120\\n* Mode sales figure: $95 (highest frequency)\\n* Trend analysis: No clear trend detected, but sales appear to be increasing with fluctuations. May be affected by seasonal or external factors.\\n\\nDetailed Market Research Report:\\n\\nThe sales data for the given period shows a moderate increase in sales figures. The mean sales figure is $123.14, indicating a steady growth in revenue. However, the median sales figure of $120 suggests that there may be some fluctuation in sales patterns.\\n\\nInterestingly, the mode sales figure is $95, which indicates that this price point has the highest frequency of occurrence. This could suggest that there is a strong demand for products priced at $95.\\n\\nThe trend analysis reveals that there is no clear trend detected in the sales data. The sales figures appear to be increasing over time, but with some fluctuations. This may be due to seasonal or external factors affecting sales.\\n\\nTo better understand the sales pattern and identify potential opportunities for growth, further market research is recommended. Some possible areas of investigation include:\\n\\n* Analyzing sales data by season or quarter to identify any seasonal trends\\n* Conducting customer surveys or focus groups to understand demand patterns and preferences\\n* Monitoring economic indicators and external factors that may impact sales, such as changes in consumer spending habits or competitor activity.\\n\\nBy conducting further market research, businesses can gain a deeper understanding of the sales pattern and make informed decisions about pricing, marketing, and product development strategies.', additional_kwargs={}, response_metadata={}, name='content_writing_team', id='3804f4a0-f01f-4001-a765-e6f83cc74470')]}}\n",
      "---\n",
      "{'supervisor': {'next': 'content_writing_team'}}\n",
      "---\n",
      "{'content_writing_team': {'messages': [HumanMessage(content='{\"name\": \"report_generation_tool\", \"parameters\": {\"points\": \"[\\\\\"The mean sales figure is $123.14, indicating a steady growth in revenue.\\\\\",\\n \\\\\"However, the median sales figure of $120 suggests that there may be some fluctuation in sales patterns.\\\\\",\\n \\\\\"Interestingly, the mode sales figure is $95, which indicates that this price point has the highest frequency of occurrence.\\\\\",\\n \\\\\"This could suggest that there is a strong demand for products priced at $95.\\\\\",\\n \\\\\"The trend analysis reveals that there is no clear trend detected in the sales data.\\\\\",\\n \\\\\"The sales figures appear to be increasing over time, but with some fluctuations.\\\\\",\\n \\\\\"This may be due to seasonal or external factors affecting sales.\\\\\",\\n \\\\\"To better understand the sales pattern and identify potential opportunities for growth,\\\\\",\\n \\\\\"Further market research is recommended.\\\\\",\\n \\\\\"Some possible areas of investigation include:\\\\\",\\n \\\\\" Analyzing sales data by season or quarter to identify any seasonal trends\\\\\",\\n \\\\\" Conducting customer surveys or focus groups to understand demand patterns and preferences\\\\\",\\n \\\\\" Monitoring economic indicators and external factors that may impact sales, such as changes in consumer spending habits or competitor activity.\\\\\",\\n \\\\\"By conducting further market research,\\\\\",\\n \\\\\" Businesses can gain a deeper understanding of the sales pattern and make informed decisions about pricing, marketing, and product development strategies.\"]}', additional_kwargs={}, response_metadata={}, name='content_writing_team', id='279b95ca-4298-43dc-9d47-713e5b5fb175')]}}\n",
      "---\n",
      "{'supervisor': {'next': 'content_writing_team'}}\n",
      "---\n",
      "{'content_writing_team': {'messages': [HumanMessage(content='{\"name\": \"report_generation_tool\", \"parameters\": {\"points\": \"[\\\\\"The mean sales figure is $123.14, indicating a steady growth in revenue.\\\\\",\\n \\\\\"However, the median sales figure of $120 suggests that there may be some fluctuation in sales patterns.\\\\\",\\n \\\\\"Interestingly, the mode sales figure is $95, which indicates that this price point has the highest frequency of occurrence.\\\\\",\\n \\\\\"This could suggest that there is a strong demand for products priced at $95.\\\\\",\\n \\\\\"The trend analysis reveals that there is no clear trend detected in the sales data.\\\\\",\\n \\\\\"The sales figures appear to be increasing over time, but with some fluctuations.\\\\\",\\n \\\\\"This may be due to seasonal or external factors affecting sales.\\\\\",\\n \\\\\"To better understand the sales pattern and identify potential opportunities for growth,\\\\\",\\n \\\\\"Further market research is recommended.\\\\\",\\n \\\\\"Some possible areas of investigation include:\\\\\",\\n \\\\\" Analyzing sales data by season or quarter to identify any seasonal trends\\\\\",\\n \\\\\" Conducting customer surveys or focus groups to understand demand patterns and preferences\\\\\",\\n \\\\\" Monitoring economic indicators and external factors that may impact sales, such as changes in consumer spending habits or competitor activity.\\\\\",\\n \\\\\"By conducting further market research,\\\\\"\\n \\\\\" Businesses can gain a deeper understanding of the sales pattern and make informed decisions about pricing, marketing, and product development strategies.\"]\"}}', additional_kwargs={}, response_metadata={}, name='content_writing_team', id='7f86b47b-e1cc-4770-909d-98a4dbbba4c9')]}}\n",
      "---\n",
      "{'supervisor': {'next': 'content_writing_team'}}\n",
      "---\n",
      "{'content_writing_team': {'messages': [HumanMessage(content='{\"name\": \"report_generation_tool\", \"parameters\": {\"points\": [\\n\"The mean sales figure is $123.14, indicating a steady growth in revenue.\",\\n\"However, the median sales figure of $120 suggests that there may be some fluctuation in sales patterns.\",\\n\"Interestingly, the mode sales figure is $95, which indicates that this price point has the highest frequency of occurrence.\",\\n\"This could suggest that there is a strong demand for products priced at $95.\",\\n\"The trend analysis reveals that there is no clear trend detected in the sales data.\",\\n\"The sales figures appear to be increasing over time, but with some fluctuations.\",\\n\"This may be due to seasonal or external factors affecting sales.\",\\n\"To better understand the sales pattern and identify potential opportunities for growth:\", \\n\"Further market research is recommended.\",\\n\"Some possible areas of investigation include:\",\\n\" Analyzing sales data by season or quarter to identify any seasonal trends\",\\n\" Conducting customer surveys or focus groups to understand demand patterns and preferences\",\\n\" Monitoring economic indicators and external factors that may impact sales, such as changes in consumer spending habits or competitor activity.\",\\n\"By conducting further market research,\"\\n\" Businesses can gain a deeper understanding of the sales pattern and make informed decisions about pricing, marketing, and product development strategies.\"]\\n}}', additional_kwargs={}, response_metadata={}, name='content_writing_team', id='6ed5a8b7-4285-4522-b171-570cb350c6c4')]}}\n",
      "---\n",
      "{'supervisor': {'next': 'content_writing_team'}}\n",
      "---\n",
      "{'content_writing_team': {'messages': [HumanMessage(content='{\"name\": \"report_generation_tool\", \"parameters\": {\"points\": [\"There is no clear trend detected in the sales data.\", \"The sales figures appear to be increasing over time, but with some fluctuations.\", \"This may be due to seasonal or external factors affecting sales.\", \"To better understand the sales pattern and identify potential opportunities for growth:\", \"Further market research is recommended.\", \"Some possible areas of investigation include:\", \" Analyzing sales data by season or quarter to identify any seasonal trends\", \" Conducting customer surveys or focus groups to understand demand patterns and preferences\", \" Monitoring economic indicators and external factors that may impact sales, such as changes in consumer spending habits or competitor activity.\"]}', additional_kwargs={}, response_metadata={}, name='content_writing_team', id='ad2573ab-7777-402f-a576-11c7a479575b')]}}\n",
      "---\n",
      "{'supervisor': None}\n",
      "---\n"
     ]
    }
   ],
   "source": [
    "# Run the compiled final graph\n",
    "for step in compiled_final_graph.stream(\n",
    "    {\"messages\": [(\"user\", \"sales data: [95, 102, 110, 120, 130, 145, 160].First, calculate the basic statistics like mean, median, and mode.Then, check if there is any clear trend in the sales pattern.After that, summarize the findings in bullet points and create a detailed market research report.\"\n",
    "\n",
    ")]},\n",
    "    {\"recursion_limit\": 15}  # Avoid infinite loops\n",
    "):\n",
    "    print(step)\n",
    "    print(\"---\")\n"
   ]
  },
  {
   "cell_type": "code",
   "execution_count": null,
   "id": "798e7512",
   "metadata": {},
   "outputs": [],
   "source": []
  }
 ],
 "metadata": {
  "kernelspec": {
   "display_name": "langgraphenv",
   "language": "python",
   "name": "python3"
  },
  "language_info": {
   "codemirror_mode": {
    "name": "ipython",
    "version": 3
   },
   "file_extension": ".py",
   "mimetype": "text/x-python",
   "name": "python",
   "nbconvert_exporter": "python",
   "pygments_lexer": "ipython3",
   "version": "3.11.7"
  }
 },
 "nbformat": 4,
 "nbformat_minor": 5
}
