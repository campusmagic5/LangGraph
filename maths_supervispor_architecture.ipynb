{
 "cells": [
  {
   "cell_type": "code",
   "execution_count": 1,
   "id": "390d0053",
   "metadata": {},
   "outputs": [],
   "source": [
    "from typing import Annotated, Literal\n",
    "from typing_extensions import TypedDict\n",
    "from langgraph.graph import MessagesState, END, StateGraph, START\n",
    "from langgraph.types import Command\n",
    "from langchain_core.tools import tool\n",
    "from langchain_core.messages import HumanMessage\n",
    "from langgraph.prebuilt import create_react_agent\n",
    "from langchain_ollama import ChatOllama\n",
    "from langgraph.managed.is_last_step import RemainingSteps"
   ]
  },
  {
   "cell_type": "code",
   "execution_count": 2,
   "id": "5fe197f1",
   "metadata": {},
   "outputs": [],
   "source": [
    "ollama_model = ChatOllama(model=\"llama3.2\")"
   ]
  },
  {
   "cell_type": "code",
   "execution_count": 3,
   "id": "819eb7a8",
   "metadata": {},
   "outputs": [
    {
     "data": {
      "text/plain": [
       "AIMessage(content='How can I assist you today?', additional_kwargs={}, response_metadata={'model': 'llama3.2', 'created_at': '2025-04-20T16:26:39.234564Z', 'done': True, 'done_reason': 'stop', 'total_duration': 512063700, 'load_duration': 67809100, 'prompt_eval_count': 26, 'prompt_eval_duration': 57000000, 'eval_count': 8, 'eval_duration': 386000000, 'message': Message(role='assistant', content='', images=None, tool_calls=None)}, id='run-7b347e1b-86c8-497f-9c98-59c5f3cf11e3-0', usage_metadata={'input_tokens': 26, 'output_tokens': 8, 'total_tokens': 34})"
      ]
     },
     "execution_count": 3,
     "metadata": {},
     "output_type": "execute_result"
    }
   ],
   "source": [
    "ollama_model.invoke('hi')"
   ]
  },
  {
   "cell_type": "code",
   "execution_count": 4,
   "id": "c2d74b58",
   "metadata": {},
   "outputs": [],
   "source": [
    "members = [\"calculator_agent\", \"formula_agent\"]\n",
    "options = members + [\"FINISH\"]\n",
    "class Router(TypedDict):\n",
    "     \"\"\"Worker to route to next. If no workers needed, route to FINISH.\"\"\"\n",
    "     next: Literal[\"calculator_agent\", \"formula_agent\", \"FINISH\"]\n",
    "class State(MessagesState):\n",
    "    next: str\n",
    "    remaining_steps: RemainingSteps"
   ]
  },
  {
   "cell_type": "code",
   "execution_count": 5,
   "id": "cef3d688",
   "metadata": {},
   "outputs": [],
   "source": [
    "system_prompt = f\"\"\"\n",
    "You are a supervisor, tasked with managing a conversation between the following workers: {members}. \n",
    "Given the user's request, respond with the worker to act next. \n",
    "Each worker will perform a task and respond with results and status. \n",
    "When finished, respond with FINISH.\n",
    "\"\"\"\n",
    "def supervisor_node(state: State) -> Command[Literal[\"calculator_agent\", \"formula_agent\", \"__end__\"]]:\n",
    "    if state[\"remaining_steps\"] <= 2:\n",
    "        return Command(goto=END)\n",
    "    messages = [{\"role\": \"system\", \"content\": system_prompt}] + state[\"messages\"]\n",
    "    response = ollama_model.with_structured_output(Router).invoke(messages)\n",
    "    goto = response[\"next\"]\n",
    "    if goto == \"FINISH\":\n",
    "        goto = END\n",
    "    return Command(goto=goto, update={\"next\": goto})"
   ]
  },
  {
   "cell_type": "code",
   "execution_count": 6,
   "id": "874e692c",
   "metadata": {},
   "outputs": [],
   "source": [
    "@tool\n",
    "def basic_calculator_tool(expression: Annotated[str, \"A basic arithmetic expression like 2 + 3 * 4\"]):\n",
    "    \"\"\"Evaluate a simple math expression and return the result.\"\"\"\n",
    "    try:\n",
    "        result = eval(expression)\n",
    "        return f\"The result of '{expression}' is {result}\"\n",
    "    except Exception as e:\n",
    "        return f\"Error evaluating expression: {e}\"\n"
   ]
  },
  {
   "cell_type": "code",
   "execution_count": 7,
   "id": "30a0ae79",
   "metadata": {},
   "outputs": [],
   "source": [
    "def calculator_agent_node(state: State) -> Command[Literal[\"supervisor\"]]:\n",
    "    calculator = create_react_agent(ollama_model, tools=[basic_calculator_tool])\n",
    "    result = calculator.invoke(state)\n",
    "    return Command(\n",
    "        update={\n",
    "            \"messages\": [\n",
    "                HumanMessage(content=result[\"messages\"][-1].content, name=\"calculator_agent\")\n",
    "            ]\n",
    "        },\n",
    "        goto=\"supervisor\"\n",
    "    )\n"
   ]
  },
  {
   "cell_type": "code",
   "execution_count": 8,
   "id": "4501507d",
   "metadata": {},
   "outputs": [],
   "source": [
    "@tool\n",
    "def math_formula_tool(topic: Annotated[str, \"A math topic like area of circle or quadratic formula\"]):\n",
    "    \"\"\"Return standard math formulas based on the topic.\"\"\"\n",
    "    formulas = {\n",
    "        \"area of circle\": \"Area = π × r²\",\n",
    "        \"quadratic formula\": \"x = [-b ± √(b² - 4ac)] / (2a)\",\n",
    "        \"pythagoras theorem\": \"c² = a² + b²\",\n",
    "        \"circumference of circle\": \"C = 2πr\"\n",
    "    }\n",
    "    topic_lower = topic.lower()\n",
    "    return formulas.get(topic_lower, f\"No formula found for '{topic}'\")\n"
   ]
  },
  {
   "cell_type": "code",
   "execution_count": 9,
   "id": "9046ffe9",
   "metadata": {},
   "outputs": [],
   "source": [
    "def formula_agent_node(state: State) -> Command[Literal[\"supervisor\"]]:\n",
    "    formula_agent = create_react_agent(ollama_model, tools=[math_formula_tool])\n",
    "    result = formula_agent.invoke(state)\n",
    "    return Command(\n",
    "        update={\n",
    "            \"messages\": [\n",
    "                HumanMessage(content=result[\"messages\"][-1].content, name=\"formula_agent\")\n",
    "            ]\n",
    "        },\n",
    "        goto=\"supervisor\"\n",
    "    )\n"
   ]
  },
  {
   "cell_type": "code",
   "execution_count": 10,
   "id": "88c6c67c",
   "metadata": {},
   "outputs": [],
   "source": [
    "graph = StateGraph(State)\n",
    "graph.add_node(\"supervisor\", supervisor_node)\n",
    "graph.add_node(\"calculator_agent\", calculator_agent_node)\n",
    "graph.add_node(\"formula_agent\", formula_agent_node)\n",
    "graph.add_edge(START, \"supervisor\")\n",
    "app = graph.compile()"
   ]
  },
  {
   "cell_type": "code",
   "execution_count": 11,
   "id": "d8b769fb",
   "metadata": {},
   "outputs": [
    {
     "data": {
      "image/png": "[encoded data removed]",
      "text/plain": [
       "<IPython.core.display.Image object>"
      ]
     },
     "metadata": {},
     "output_type": "display_data"
    }
   ],
   "source": [
    "from IPython.display import Image, display\n",
    "display(Image(app.get_graph().draw_mermaid_png()))"
   ]
  },
  {
   "cell_type": "code",
   "execution_count": 12,
   "id": "16a9939b",
   "metadata": {},
   "outputs": [
    {
     "name": "stdout",
     "output_type": "stream",
     "text": [
      "{'supervisor': {'next': 'calculator_agent'}}\n",
      "----\n",
      "{'calculator_agent': {'messages': [HumanMessage(content='The result of the expression `12 * (5 + 3)` is 96.', additional_kwargs={}, response_metadata={}, name='calculator_agent', id='f013f2c8-0a90-403c-a762-1fbf77b1ac2f')]}}\n",
      "----\n",
      "{'supervisor': {'next': 'formula_agent'}}\n",
      "----\n",
      "{'formula_agent': {'messages': [HumanMessage(content='To evaluate the expression `12 * (5 + 3)`, we need to follow the order of operations (PEMDAS):\\n\\n1. Evaluate the expression inside the parentheses: `5 + 3 = 8`\\n2. Multiply 12 by the result: `12 * 8 = 96`\\n\\nSo, the correct answer is indeed 96!', additional_kwargs={}, response_metadata={}, name='formula_agent', id='7d368dee-b743-4f2c-b4e7-fb03e72f39f0')]}}\n",
      "----\n",
      "{'supervisor': {'next': 'calculator_agent'}}\n",
      "----\n",
      "{'calculator_agent': {'messages': [HumanMessage(content='6 x (2 + 4) = ?\\n\\nTo evaluate the expression `6 * (2 + 4)`, we need to follow the order of operations (PEMDAS):\\n\\n1. Evaluate the expression inside the parentheses: `2 + 4 = 6`\\n2. Multiply 6 by the result: `6 * 6 = 36`\\n\\nSo, the correct answer is 36!', additional_kwargs={}, response_metadata={}, name='calculator_agent', id='58fb1743-37c4-445c-a86a-35db2695d18f')]}}\n",
      "----\n",
      "{'supervisor': {'next': 'calculator_agent'}}\n",
      "----\n",
      "{'calculator_agent': {'messages': [HumanMessage(content='To evaluate the expression `6 * (2 + 4)`, we need to follow the order of operations (PEMDAS):\\n\\n1. Evaluate the expression inside the parentheses: `2 + 4 = 6`\\n2. Multiply 6 by the result: `6 * 6 = 36`\\n\\nSo, the correct answer is 36.', additional_kwargs={}, response_metadata={}, name='calculator_agent', id='e22c9d5a-0b39-4045-93ef-03b620028554')]}}\n",
      "----\n",
      "{'supervisor': {'next': 'calculator_agent'}}\n",
      "----\n",
      "{'calculator_agent': {'messages': [HumanMessage(content='To evaluate the expression `6 * (2 + 4)`, we need to follow the order of operations (PEMDAS):\\n\\n1. Evaluate the expression inside the parentheses: `2 + 4 = 6`\\n2. Multiply 6 by the result: `6 * 6 = 36`\\n\\nSo, the correct answer is indeed 36!', additional_kwargs={}, response_metadata={}, name='calculator_agent', id='6588b3a5-3e9b-4aa0-a177-e2748a8c9f9a')]}}\n",
      "----\n",
      "{'supervisor': {'next': 'calculator_agent'}}\n",
      "----\n",
      "{'calculator_agent': {'messages': [HumanMessage(content='To evaluate the expression `6 x (2 + 4)`, we need to follow the order of operations (PEMDAS):\\n\\n1. Evaluate the expression inside the parentheses: `2 + 4 = 6`\\n2. Multiply 6 by the result: `6 * 6 = 36`\\n\\nSo, the correct answer is 36.', additional_kwargs={}, response_metadata={}, name='calculator_agent', id='efa178b0-160d-4e6e-8ed1-c7847fb5b762')]}}\n",
      "----\n",
      "{'supervisor': {'next': 'calculator_agent'}}\n",
      "----\n",
      "{'calculator_agent': {'messages': [HumanMessage(content='6 x (2 + 4) = 36', additional_kwargs={}, response_metadata={}, name='calculator_agent', id='80c86268-7048-473c-a0a4-6a88401a3d17')]}}\n",
      "----\n",
      "{'supervisor': {'next': 'formula_agent'}}\n",
      "----\n",
      "{'formula_agent': {'messages': [HumanMessage(content='To solve the expression `6 * (2 + 4)`:\\n\\n1. Evaluate the expression inside the parentheses: `2 + 4 = 6`\\n2. Multiply 6 by the result: `6 * 6 = 36`\\n\\nSo, the correct answer is indeed 36!', additional_kwargs={}, response_metadata={}, name='formula_agent', id='6f7e34ec-a0d2-4e2a-a1df-a7ee01c225f7')]}}\n",
      "----\n",
      "{'supervisor': {'next': 'formula_agent'}}\n",
      "----\n",
      "{'formula_agent': {'messages': [HumanMessage(content='To evaluate the expression `6 * (2 + 4)`, we need to follow the order of operations (PEMDAS):\\n\\n1. Evaluate the expression inside the parentheses: `2 + 4 = 6`\\n2. Multiply 6 by the result: `6 * 6 = 36`\\n\\nSo, the correct answer is indeed 36!', additional_kwargs={}, response_metadata={}, name='formula_agent', id='cabb7147-5d26-48e0-bbc8-dbfaccb4810c')]}}\n",
      "----\n",
      "{'supervisor': {'next': 'calculator_agent'}}\n",
      "----\n",
      "{'calculator_agent': {'messages': [HumanMessage(content='Using the tool to evaluate the expression `6 * (2 + 4)`:\\n\\nThe result of the expression `6 * (2 + 4)` is 36.\\n\\nTo evaluate the expression, we need to follow the order of operations (PEMDAS):\\n\\n1. Evaluate the expression inside the parentheses: `2 + 4 = 6`\\n2. Multiply 6 by the result: `6 * 6 = 36`\\n\\nSo, the correct answer is indeed 36!', additional_kwargs={}, response_metadata={}, name='calculator_agent', id='fda64ce8-f8e4-4cdb-9e39-969c5109b2e8')]}}\n",
      "----\n",
      "{'supervisor': {'next': 'formula_agent'}}\n",
      "----\n",
      "{'formula_agent': {'messages': [HumanMessage(content='{\"name\": \"math_formula_tool\", \"parameters\": {\"topic\": \"order of operations (PEMDAS)\", \"parameters\": {\"expression\": \"6 x (2 + 4)\"}}', additional_kwargs={}, response_metadata={}, name='formula_agent', id='9f65b4c9-7654-4f59-8de0-ad3253f31307')]}}\n",
      "----\n",
      "{'supervisor': None}\n",
      "----\n"
     ]
    }
   ],
   "source": [
    "for s in app.stream({\"messages\": [(\"user\", \"What is 12 * (5 + 3)?\")],\"remaining_steps\": 10}):\n",
    "    print(s)\n",
    "    print(\"----\")"
   ]
  },
  {
   "cell_type": "code",
   "execution_count": 13,
   "id": "66d22035",
   "metadata": {},
   "outputs": [
    {
     "name": "stdout",
     "output_type": "stream",
     "text": [
      "{'supervisor': {'next': 'calculator_agent'}}\n",
      "----\n",
      "{'calculator_agent': {'messages': [HumanMessage(content='The quadratic formula is x = (-b ± √(b² - 4ac)) / 2a.', additional_kwargs={}, response_metadata={}, name='calculator_agent', id='92c48714-9f23-4d36-b9fa-3811f69e5c4c')]}}\n",
      "----\n",
      "{'supervisor': {'next': 'calculator_agent'}}\n",
      "----\n",
      "{'calculator_agent': {'messages': [HumanMessage(content='The quadratic formula is x = (-b ± √(b² - 4ac)) / 2a.', additional_kwargs={}, response_metadata={}, name='calculator_agent', id='0a29cbce-33ce-4b0d-bcbe-744a15736e2b')]}}\n",
      "----\n",
      "{'supervisor': {'next': 'calculator_agent'}}\n",
      "----\n",
      "{'calculator_agent': {'messages': [HumanMessage(content='The quadratic formula is x = (-b ± √(b² - 4ac)) / 2a.', additional_kwargs={}, response_metadata={}, name='calculator_agent', id='1398b0be-a5e5-4d13-b96a-b1f3304d0fdb')]}}\n",
      "----\n",
      "{'supervisor': {'next': 'calculator_agent'}}\n",
      "----\n",
      "{'calculator_agent': {'messages': [HumanMessage(content='The quadratic formula is x = (-b ± √(b² - 4ac)) / 2a.', additional_kwargs={}, response_metadata={}, name='calculator_agent', id='32961089-058b-45ed-8c5c-d75c844ecea2')]}}\n",
      "----\n",
      "{'supervisor': {'next': 'calculator_agent'}}\n",
      "----\n",
      "{'calculator_agent': {'messages': [HumanMessage(content='The quadratic formula is x = (-b ± √(b² - 4ac)) / 2a. \\n\\nNote: The ± symbol indicates that there are two possible solutions for the value of x.', additional_kwargs={}, response_metadata={}, name='calculator_agent', id='b2d5a196-2f31-407c-a219-052efcedb433')]}}\n",
      "----\n",
      "{'supervisor': {'next': 'formula_agent'}}\n",
      "----\n",
      "{'formula_agent': {'messages': [HumanMessage(content='The quadratic formula is x = (-b ± √(b² - 4ac)) / 2a. Note that the ± symbol indicates there are two possible solutions for the value of x.', additional_kwargs={}, response_metadata={}, name='formula_agent', id='38c39ca1-d708-49df-86ed-6506c400daf2')]}}\n",
      "----\n",
      "{'supervisor': {'next': 'calculator_agent'}}\n",
      "----\n",
      "{'calculator_agent': {'messages': [HumanMessage(content=\"The quadratic formula is x = (-b ± √(b² - 4ac)) / 2a.\\n\\nIn the quadratic formula, 'a', 'b', and 'c' are coefficients from the quadratic equation ax^2 + bx + c = 0. \\n\\nTo use the quadratic formula, simply replace a with the value of 'a' from your quadratic equation, b with the value of 'b', and c with the value of 'c'.\", additional_kwargs={}, response_metadata={}, name='calculator_agent', id='ae785e04-662c-43d1-8cb0-247681f42e03')]}}\n",
      "----\n",
      "{'supervisor': {'next': 'calculator_agent'}}\n",
      "----\n",
      "{'calculator_agent': {'messages': [HumanMessage(content=\"It seems like the formatting of the quadratic formula is not being recognized. Here's a reformatted version:\\n\\nThe quadratic formula is x = (-b ± √(b² - 4ac)) / 2a.\\n\\nWhere 'a', 'b', and 'c' are coefficients from the quadratic equation ax^2 + bx + c = 0.\\n\\nTo use the quadratic formula, simply replace 'a' with the value of 'a' from your quadratic equation, 'b' with the value of 'b', and 'c' with the value of 'c'.\", additional_kwargs={}, response_metadata={}, name='calculator_agent', id='4bfd7fb0-2523-4b13-a1d7-373cc63eedf6')]}}\n",
      "----\n",
      "{'supervisor': {'next': 'calculator_agent'}}\n",
      "----\n",
      "{'calculator_agent': {'messages': [HumanMessage(content=\"The quadratic formula is x = (-b ± √(b² - 4ac)) / 2a.\\n\\nWhere 'a', 'b', and 'c' are coefficients from the quadratic equation ax^2 + bx + c = 0.\\n\\nTo use the quadratic formula, simply replace 'a' with the value of 'a' from your quadratic equation, 'b' with the value of 'b', and 'c' with the value of 'c'.\", additional_kwargs={}, response_metadata={}, name='calculator_agent', id='9f651c18-60e8-4e2d-bd5f-4f13fae9919d')]}}\n",
      "----\n",
      "{'supervisor': {'next': 'calculator_agent'}}\n",
      "----\n",
      "{'calculator_agent': {'messages': [HumanMessage(content=\"The quadratic formula is x = (-b ± sqrt(b^2 - 4ac)) / 2a.\\n\\nWhere 'a', 'b', and 'c' are coefficients from the quadratic equation ax^2 + bx + c = 0.\\n\\nTo use the quadratic formula, simply replace 'a' with the value of 'a' from your quadratic equation, 'b' with the value of 'b', and 'c' with the value of 'c'.\", additional_kwargs={}, response_metadata={}, name='calculator_agent', id='e00cdcae-4e7e-472b-82c3-d105fee5ac9e')]}}\n",
      "----\n",
      "{'supervisor': {'next': 'calculator_agent'}}\n",
      "----\n",
      "{'calculator_agent': {'messages': [HumanMessage(content=\"The quadratic formula is x = (-b ± √(b² - 4ac)) / 2a.\\n\\nWhere 'a', 'b', and 'c' are coefficients from the quadratic equation ax^2 + bx + c = 0.\\n\\nTo use the quadratic formula, simply replace 'a' with the value of 'a' from your quadratic equation, 'b' with the value of 'b', and 'c' with the value of 'c'.\", additional_kwargs={}, response_metadata={}, name='calculator_agent', id='d74a2192-b2f6-4e55-8863-ec7349b6bfc0')]}}\n",
      "----\n",
      "{'supervisor': None}\n",
      "----\n"
     ]
    }
   ],
   "source": [
    "for s in app.stream({\"messages\": [(\"user\", \"Give me the quadratic formula\")],\"remaining_steps\": 10}):\n",
    "    print(s)\n",
    "    print(\"----\")"
   ]
  },
  {
   "cell_type": "code",
   "execution_count": 14,
   "id": "2ffa9a3d",
   "metadata": {},
   "outputs": [
    {
     "name": "stdout",
     "output_type": "stream",
     "text": [
      "{'supervisor': {'next': 'formula_agent'}}\n",
      "----\n",
      "{'formula_agent': {'messages': [HumanMessage(content='The area of the circle is approximately 153.94 square units.', additional_kwargs={}, response_metadata={}, name='formula_agent', id='d44ebab7-c5c3-46fb-b51a-855d89c18c96')]}}\n",
      "----\n",
      "{'supervisor': {'next': 'formula_agent'}}\n",
      "----\n",
      "{'formula_agent': {'messages': [HumanMessage(content='Using the formula for the area of a circle, A = πr², where r is the radius of the circle.\\n\\nGiven that the radius of the circle is 7 units, we can calculate the area as follows:\\n\\nA = π(7)²\\nA ≈ 3.14159 × 49\\nA ≈ 153.94 square units\\n\\nSo, the area of a circle with radius 7 units is approximately 153.94 square units.', additional_kwargs={}, response_metadata={}, name='formula_agent', id='a1d7ac36-ce90-4d63-a2e8-5a8e9c695754')]}}\n",
      "----\n",
      "{'supervisor': {'next': 'calculator_agent'}}\n",
      "----\n",
      "{'calculator_agent': {'messages': [HumanMessage(content='The area of a circle with radius 7 units is approximately 153.94 square units.', additional_kwargs={}, response_metadata={}, name='calculator_agent', id='a995e5ae-3922-482e-bcb6-2a7d9cb05f74')]}}\n",
      "----\n",
      "{'supervisor': {'next': 'calculator_agent'}}\n",
      "----\n",
      "{'calculator_agent': {'messages': [HumanMessage(content='The area of a circle with radius 7 units is approximately 153.94 square units.', additional_kwargs={}, response_metadata={}, name='calculator_agent', id='671f2d60-e18c-4e5d-9e34-55e777b41933')]}}\n",
      "----\n",
      "{'supervisor': {'next': 'calculator_agent'}}\n",
      "----\n",
      "{'calculator_agent': {'messages': [HumanMessage(content='The area of a circle with radius 7 units is approximately 153.94 square units.', additional_kwargs={}, response_metadata={}, name='calculator_agent', id='7a759f13-6275-4bcc-9c75-c8838617b801')]}}\n",
      "----\n",
      "{'supervisor': {'next': 'calculator_agent'}}\n",
      "----\n",
      "{'calculator_agent': {'messages': [HumanMessage(content='The area of a circle with radius 7 units is approximately 153.94 square units.', additional_kwargs={}, response_metadata={}, name='calculator_agent', id='06ab4129-4de8-4bf0-99f5-60e9fcccc688')]}}\n",
      "----\n",
      "{'supervisor': {'next': 'formula_agent'}}\n",
      "----\n",
      "{'formula_agent': {'messages': [HumanMessage(content='The area of a circle with a radius of 7 units is approximately 153.94 square units.', additional_kwargs={}, response_metadata={}, name='formula_agent', id='73b5543c-d763-446e-867e-7507a7f1d837')]}}\n",
      "----\n",
      "{'supervisor': {'next': 'calculator_agent'}}\n",
      "----\n",
      "{'calculator_agent': {'messages': [HumanMessage(content='The area of a circle with radius 7 units is approximately 153.94 square units.', additional_kwargs={}, response_metadata={}, name='calculator_agent', id='ca83060c-c743-4391-91b9-3fb56a270b65')]}}\n",
      "----\n",
      "{'supervisor': {'next': 'calculator_agent'}}\n",
      "----\n",
      "{'calculator_agent': {'messages': [HumanMessage(content='The area of a circle with radius 7 units is approximately 153.94 square units.', additional_kwargs={}, response_metadata={}, name='calculator_agent', id='a76a4b28-8207-410e-8f5e-d30da4912040')]}}\n",
      "----\n",
      "{'supervisor': {'next': 'calculator_agent'}}\n",
      "----\n",
      "{'calculator_agent': {'messages': [HumanMessage(content='The area of a circle with radius 7 units is approximately 153.94 square units.', additional_kwargs={}, response_metadata={}, name='calculator_agent', id='f6ac3fe8-396f-4bd4-9735-6f650eca4eba')]}}\n",
      "----\n",
      "{'supervisor': {'next': 'calculator_agent'}}\n",
      "----\n",
      "{'calculator_agent': {'messages': [HumanMessage(content='The issue is with the exponentiation operator. Since the radius is 7, we need to calculate it first.\\n\\nSo, the correct calculation is:\\n\\nA = π(7)²\\n= 3.14159 × 49\\n≈ 153.94 square units\\n\\nTherefore, the area of a circle with radius 7 units is approximately 153.94 square units.', additional_kwargs={}, response_metadata={}, name='calculator_agent', id='fea7d143-bffd-4c3d-8c02-e7405f8a87a4')]}}\n",
      "----\n",
      "{'supervisor': None}\n",
      "----\n"
     ]
    }
   ],
   "source": [
    "for s in app.stream({\"messages\": [(\"user\", \"What is the area of a circle with radius 7\")],\"remaining_steps\": 10}):\n",
    "    print(s)\n",
    "    print(\"----\")"
   ]
  },
  {
   "cell_type": "code",
   "execution_count": null,
   "id": "f16bf983",
   "metadata": {},
   "outputs": [],
   "source": []
  }
 ],
 "metadata": {
  "kernelspec": {
   "display_name": "langgraphenv",
   "language": "python",
   "name": "python3"
  },
  "language_info": {
   "codemirror_mode": {
    "name": "ipython",
    "version": 3
   },
   "file_extension": ".py",
   "mimetype": "text/x-python",
   "name": "python",
   "nbconvert_exporter": "python",
   "pygments_lexer": "ipython3",
   "version": "3.11.7"
  }
 },
 "nbformat": 4,
 "nbformat_minor": 5
}
