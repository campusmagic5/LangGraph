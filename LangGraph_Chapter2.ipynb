{
 "cells": [
  {
   "cell_type": "code",
   "execution_count": 1,
   "metadata": {},
   "outputs": [],
   "source": [
    "from langgraph.graph import StateGraph, START, END"
   ]
  },
  {
   "cell_type": "markdown",
   "metadata": {},
   "source": [
    "Implementation Using BaseModel"
   ]
  },
  {
   "cell_type": "code",
   "execution_count": 2,
   "metadata": {},
   "outputs": [],
   "source": [
    "# Define the state using BaseModel\n",
    "from pydantic import BaseModel\n",
    "class MathState(BaseModel):\n",
    "    num1: float\n",
    "    num2: float\n",
    "    sum_result: float = 0\n",
    "    final_result: float = 0"
   ]
  },
  {
   "cell_type": "code",
   "execution_count": 7,
   "metadata": {},
   "outputs": [],
   "source": [
    "# Define node functions\n",
    "def add_numbers(state: MathState) -> MathState:\n",
    "    state.sum_result = state.num1 + state.num2\n",
    "    return state\n",
    "def multiply_result(state: MathState) -> MathState:\n",
    "    state.final_result = state.sum_result * 2\n",
    "    return state"
   ]
  },
  {
   "cell_type": "code",
   "execution_count": null,
   "metadata": {},
   "outputs": [
    {
     "data": {
      "text/plain": [
       "<langgraph.graph.state.StateGraph at 0x23b28156790>"
      ]
     },
     "execution_count": 8,
     "metadata": {},
     "output_type": "execute_result"
    }
   ],
   "source": [
    "# Initialize and build the graph\n",
    "graph = StateGraph(MathState)\n",
    "graph.add_node(\"add\", add_numbers)\n",
    "graph.add_node(\"multiply\", multiply_result)\n",
    "graph.add_edge(START, \"add\")\n",
    "graph.add_edge(\"add\", \"multiply\")\n",
    "graph.add_edge(\"multiply\", END)"
   ]
  },
  {
   "cell_type": "code",
   "execution_count": 10,
   "metadata": {},
   "outputs": [],
   "source": [
    "# Compile and execute\n",
    "app = graph.compile()"
   ]
  },
  {
   "cell_type": "code",
   "execution_count": null,
   "metadata": {},
   "outputs": [],
   "source": [
    "initial_state = MathState(num1=5, num2=3)\n",
    "final_state = app.invoke(initial_state)"
   ]
  },
  {
   "cell_type": "code",
   "execution_count": null,
   "metadata": {},
   "outputs": [
    {
     "name": "stdout",
     "output_type": "stream",
     "text": [
      "Final Result: {'num1': 5.0, 'num2': 3.0, 'sum_result': 8.0, 'final_result': 16.0}\n"
     ]
    }
   ],
   "source": [
    "print(f\"Final Result: {final_state}\") "
   ]
  },
  {
   "cell_type": "markdown",
   "metadata": {},
   "source": [
    "Implementation Using TypedDict"
   ]
  },
  {
   "cell_type": "code",
   "execution_count": 19,
   "metadata": {},
   "outputs": [],
   "source": [
    "from typing import TypedDict\n",
    "class MathState(TypedDict):\n",
    "    num1: float\n",
    "    num2: float\n",
    "    sum_result: float\n",
    "    final_result: float"
   ]
  },
  {
   "cell_type": "code",
   "execution_count": 20,
   "metadata": {},
   "outputs": [],
   "source": [
    "# Define node functions\n",
    "def add_numbers(state: MathState) -> MathState:\n",
    "    state[\"sum_result\"] = state[\"num1\"] + state[\"num2\"]\n",
    "    return state\n",
    "def multiply_result(state: MathState) -> MathState:\n",
    "    state[\"final_result\"] = state[\"sum_result\"] * 2\n",
    "    return state"
   ]
  },
  {
   "cell_type": "code",
   "execution_count": null,
   "metadata": {},
   "outputs": [
    {
     "data": {
      "text/plain": [
       "<langgraph.graph.state.StateGraph at 0x23b29064d10>"
      ]
     },
     "execution_count": 21,
     "metadata": {},
     "output_type": "execute_result"
    }
   ],
   "source": [
    "# Initialize and build the graph\n",
    "graph = StateGraph(MathState)\n",
    "graph.add_node(\"add\", add_numbers)\n",
    "graph.add_node(\"multiply\", multiply_result)\n",
    "graph.add_edge(START, \"add\")\n",
    "graph.add_edge(\"add\", \"multiply\")\n",
    "graph.add_edge(\"multiply\", END)"
   ]
  },
  {
   "cell_type": "code",
   "execution_count": null,
   "metadata": {},
   "outputs": [
    {
     "name": "stdout",
     "output_type": "stream",
     "text": [
      "Final Result: 16\n"
     ]
    }
   ],
   "source": [
    "# Compile and execute\n",
    "app = graph.compile()\n",
    "initial_state: MathState = {\"num1\": 5, \"num2\": 3, \"sum_result\": 0, \"final_result\": 0}\n",
    "final_state = app.invoke(initial_state)\n",
    "print(f\"Final Result: {final_state['final_result']}\")  "
   ]
  },
  {
   "cell_type": "code",
   "execution_count": 24,
   "metadata": {},
   "outputs": [
    {
     "data": {
      "image/png": "[encoded data removed]",
      "text/plain": [
       "<IPython.core.display.Image object>"
      ]
     },
     "metadata": {},
     "output_type": "display_data"
    }
   ],
   "source": [
    "from IPython.display import Image, display\n",
    "\n",
    "\n",
    "display(Image(app.get_graph().draw_mermaid_png()))\n"
   ]
  },
  {
   "cell_type": "code",
   "execution_count": null,
   "metadata": {},
   "outputs": [],
   "source": []
  }
 ],
 "metadata": {
  "kernelspec": {
   "display_name": "langgraphenv",
   "language": "python",
   "name": "python3"
  },
  "language_info": {
   "codemirror_mode": {
    "name": "ipython",
    "version": 3
   },
   "file_extension": ".py",
   "mimetype": "text/x-python",
   "name": "python",
   "nbconvert_exporter": "python",
   "pygments_lexer": "ipython3",
   "version": "3.11.7"
  }
 },
 "nbformat": 4,
 "nbformat_minor": 2
}
