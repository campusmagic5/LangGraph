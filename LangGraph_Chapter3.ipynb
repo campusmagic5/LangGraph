{
 "cells": [
  {
   "cell_type": "code",
   "execution_count": null,
   "metadata": {},
   "outputs": [],
   "source": [
    "from langchain_ollama.chat_models import ChatOllama\n",
    "llm = ChatOllama(model=\"mistral\")"
   ]
  },
  {
   "cell_type": "code",
   "execution_count": 2,
   "metadata": {},
   "outputs": [],
   "source": [
    "########################"
   ]
  },
  {
   "cell_type": "code",
   "execution_count": 2,
   "metadata": {},
   "outputs": [],
   "source": [
    "from langgraph.graph import MessagesState,StateGraph, END, START\n",
    "from langchain_core.messages import HumanMessage, SystemMessage\n",
    "from langchain_community.tools import DuckDuckGoSearchRun\n",
    "from langgraph.prebuilt import tools_condition # this is the checker for the if you got a tool back\n",
    "from langgraph.prebuilt import ToolNode\n",
    "from IPython.display import Image, display\n",
    "from typing import Annotated, TypedDict\n",
    "import operator\n",
    "from langchain_core.messages import AnyMessage\n",
    "from langgraph.graph.message import add_messages\n",
    "from langgraph.prebuilt import tools_condition # this is the checker for the\n",
    "from langgraph.prebuilt import ToolNode"
   ]
  },
  {
   "cell_type": "code",
   "execution_count": 3,
   "metadata": {},
   "outputs": [],
   "source": [
    "def celsius_to_fahrenheit(temp_c: float) -> float:\n",
    "    \"\"\"\n",
    "    Convert Celsius to Fahrenheit.\n",
    "    Args:\n",
    "        temp_c: temperature\n",
    "    \"\"\"\n",
    "    return (temp_c * 9/5) + 32"
   ]
  },
  {
   "cell_type": "code",
   "execution_count": 4,
   "metadata": {},
   "outputs": [],
   "source": [
    "def kilometers_to_miles(km: float) -> float:\n",
    "    \"\"\"Convert kilometers to miles.\n",
    "\n",
    "    Args:\n",
    "        km: kilometers\n",
    "    \"\"\"\n",
    "    return km * 0.621371"
   ]
  },
  {
   "cell_type": "code",
   "execution_count": 5,
   "metadata": {},
   "outputs": [],
   "source": [
    "def kilograms_to_pounds(kg: float) -> float:\n",
    "    \"\"\"Convert kilograms to pounds.\n",
    "\n",
    "    Args:\n",
    "        kg: kilograms\n",
    "    \"\"\"\n",
    "    return kg * 2.20462"
   ]
  },
  {
   "cell_type": "code",
   "execution_count": 6,
   "metadata": {},
   "outputs": [],
   "source": [
    "search = DuckDuckGoSearchRun()"
   ]
  },
  {
   "cell_type": "code",
   "execution_count": null,
   "metadata": {},
   "outputs": [
    {
     "name": "stdout",
     "output_type": "stream",
     "text": [
      "Requirement already satisfied: duckduckgo-search in d:\\langgraph-chapter1\\langgraphenv\\lib\\site-packages (7.5.5)\n",
      "Requirement already satisfied: click>=8.1.8 in d:\\langgraph-chapter1\\langgraphenv\\lib\\site-packages (from duckduckgo-search) (8.1.8)\n",
      "Requirement already satisfied: primp>=0.14.0 in d:\\langgraph-chapter1\\langgraphenv\\lib\\site-packages (from duckduckgo-search) (0.14.0)\n",
      "Requirement already satisfied: lxml>=5.3.0 in d:\\langgraph-chapter1\\langgraphenv\\lib\\site-packages (from duckduckgo-search) (5.3.1)\n",
      "Requirement already satisfied: colorama in d:\\langgraph-chapter1\\langgraphenv\\lib\\site-packages (from click>=8.1.8->duckduckgo-search) (0.4.6)\n"
     ]
    },
    {
     "name": "stderr",
     "output_type": "stream",
     "text": [
      "\n",
      "[notice] A new release of pip is available: 23.2.1 -> 25.0.1\n",
      "[notice] To update, run: python.exe -m pip install --upgrade pip\n"
     ]
    }
   ],
   "source": [
    "# !pip install -U duckduckgo-search"
   ]
  },
  {
   "cell_type": "code",
   "execution_count": 7,
   "metadata": {},
   "outputs": [],
   "source": [
    "tools = [celsius_to_fahrenheit, kilometers_to_miles, kilograms_to_pounds , search]"
   ]
  },
  {
   "cell_type": "code",
   "execution_count": 8,
   "metadata": {},
   "outputs": [],
   "source": [
    "llm_with_tools=llm.bind_tools(tools)"
   ]
  },
  {
   "cell_type": "code",
   "execution_count": 9,
   "metadata": {},
   "outputs": [],
   "source": [
    "# System message\n",
    "sys_msg = SystemMessage(content=\"You are a helpful assistant tasked with using search and performing Unit conversions on a set of inputs.\")\n",
    "     "
   ]
  },
  {
   "cell_type": "code",
   "execution_count": 10,
   "metadata": {},
   "outputs": [],
   "source": [
    "def reasoner(state: MessagesState):\n",
    "   return {\"messages\": [llm_with_tools.invoke([sys_msg] + state[\"messages\"])]}"
   ]
  },
  {
   "cell_type": "code",
   "execution_count": 11,
   "metadata": {},
   "outputs": [],
   "source": [
    "# Graph\n",
    "builder = StateGraph(MessagesState)\n",
    "\n",
    "# Add nodes\n",
    "builder.add_node(\"reasoner\", reasoner)\n",
    "\n",
    "builder.add_node(\"tools\", ToolNode(tools)) # for the tools\n",
    "\n",
    "# Add edges\n",
    "builder.add_edge(START, \"reasoner\")\n",
    "\n",
    "builder.add_conditional_edges(\n",
    "    \"reasoner\",\n",
    "    # If the latest message (result) from node reasoner is a tool call -> tools_condition routes to tools\n",
    "    # If the latest message (result) from node reasoner is a not a tool call -> tools_condition routes to END\n",
    "    tools_condition,\n",
    ")\n",
    "\n",
    "builder.add_edge(\"tools\", \"reasoner\")\n",
    "react_graph = builder.compile()"
   ]
  },
  {
   "cell_type": "code",
   "execution_count": 12,
   "metadata": {},
   "outputs": [
    {
     "data": {
      "image/png": "[encoded data removed]",
      "text/plain": [
       "<IPython.core.display.Image object>"
      ]
     },
     "metadata": {},
     "output_type": "display_data"
    }
   ],
   "source": [
    "# Display the graph\n",
    "display(Image(react_graph.get_graph(xray=True).draw_mermaid_png()))"
   ]
  },
  {
   "cell_type": "code",
   "execution_count": 34,
   "metadata": {},
   "outputs": [],
   "source": [
    "messages = [HumanMessage(content=\"What is the weight of Elon Musk in Kilograms and Pounds?\")]"
   ]
  },
  {
   "cell_type": "code",
   "execution_count": 35,
   "metadata": {},
   "outputs": [],
   "source": [
    "messages = react_graph.invoke({\"messages\": messages})"
   ]
  },
  {
   "cell_type": "code",
   "execution_count": 36,
   "metadata": {},
   "outputs": [
    {
     "name": "stdout",
     "output_type": "stream",
     "text": [
      "================================\u001b[1m Human Message \u001b[0m=================================\n",
      "\n",
      "What is the weight of Elon Musk in Kilograms and Pounds?\n",
      "==================================\u001b[1m Ai Message \u001b[0m==================================\n",
      "Tool Calls:\n",
      "  duckduckgo_search (711f6e4d-bb8e-4570-b444-a51dabdbbdca)\n",
      " Call ID: 711f6e4d-bb8e-4570-b444-a51dabdbbdca\n",
      "  Args:\n",
      "    query: Elon Musk weight\n",
      "  kilograms_to_pounds (0c8683fe-b20c-40c5-9e4b-f9c2d9aace49)\n",
      " Call ID: 0c8683fe-b20c-40c5-9e4b-f9c2d9aace49\n",
      "  Args:\n",
      "    kg: 165\n",
      "=================================\u001b[1m Tool Message \u001b[0m=================================\n",
      "Name: duckduckgo_search\n",
      "\n",
      "Elon Musk achieved a massive weight loss transformation, and he wasn't shy about how he did it. Before we get into how he achieved it, let's take a look at what might have been his biggest motivation. In the summer of 2022, photos of Elon Musk vacationing on a yacht in Mykonos, Greece surfaced on the internet. Learn about the billionaire entrepreneur's physical attributes, personal life, and career achievements. Find out his height, weight, shoe size, and other body measurements, as well as his family background and relationships. The Truth Behind Elon Musk's Weight Loss: Mounjaro. Musk openly admitted in interviews and on social media that he was using Mounjaro, a GLP-1 medication, to lose weight. For those unfamiliar, Mounjaro is primarily prescribed for people with type 2 diabetes to help lower blood sugar levels. However, it has also shown significant results in ... Elon Musk is slimming down for the holidays. The Tesla CEO, 53, showed off his new, more slender figure on X (formerly known as Twitter) on Christmas, revealing his weight loss secret: GLP-1 ... Elon Musk owes his transformation to Mounjaro, the brand name of the antidiabetic medication tirzepatide that has been approved for weight management. He revealed his secret on Christmas 2024 ...\n",
      "=================================\u001b[1m Tool Message \u001b[0m=================================\n",
      "Name: kilograms_to_pounds\n",
      "\n",
      "363.7623\n",
      "==================================\u001b[1m Ai Message \u001b[0m==================================\n",
      "\n",
      " Elon Musk weighs approximately 165 kg (about 363 pounds). However, it's worth noting that he had lost a significant amount of weight by the end of 2022 and into 2024, which he attributed to using Mounjaro, an antidiabetic medication.\n"
     ]
    }
   ],
   "source": [
    "for m in messages['messages']:\n",
    "    m.pretty_print()"
   ]
  },
  {
   "cell_type": "code",
   "execution_count": 43,
   "metadata": {},
   "outputs": [],
   "source": [
    "messages = [HumanMessage(content=\"What is the distance between India and Russia in kilometers and miles?\")]"
   ]
  },
  {
   "cell_type": "code",
   "execution_count": 44,
   "metadata": {},
   "outputs": [],
   "source": [
    "messages = react_graph.invoke({\"messages\": messages})"
   ]
  },
  {
   "cell_type": "code",
   "execution_count": 45,
   "metadata": {},
   "outputs": [
    {
     "name": "stdout",
     "output_type": "stream",
     "text": [
      "================================\u001b[1m Human Message \u001b[0m=================================\n",
      "\n",
      "What is the distance between India and Russia in kilometers and miles?\n",
      "==================================\u001b[1m Ai Message \u001b[0m==================================\n",
      "Tool Calls:\n",
      "  duckduckgo_search (51bb4ff6-41b1-4581-9124-3e405ea7ba26)\n",
      " Call ID: 51bb4ff6-41b1-4581-9124-3e405ea7ba26\n",
      "  Args:\n",
      "    query: Distance between India and Russia\n",
      "  kilometers_to_miles (9cc028c2-c5bc-447e-9792-dd9df135af42)\n",
      " Call ID: 9cc028c2-c5bc-447e-9792-dd9df135af42\n",
      "  Args:\n",
      "    km: 5469\n",
      "  duckduckgo_search (5a435fbb-0fca-492c-b521-68d4cf137e73)\n",
      " Call ID: 5a435fbb-0fca-492c-b521-68d4cf137e73\n",
      "  Args:\n",
      "    query: Distance between India and Russia\n",
      "  kilometers_to_miles (c518ca0c-c6af-4de3-a815-7a70c1fbc567)\n",
      " Call ID: c518ca0c-c6af-4de3-a815-7a70c1fbc567\n",
      "  Args:\n",
      "    km: 5469\n",
      "=================================\u001b[1m Tool Message \u001b[0m=================================\n",
      "Name: duckduckgo_search\n",
      "\n",
      "There exists a geographic point where two of the largest countries in the world are separated by less than three miles. Russia (ranked as the largest country in the world at 6,601,670 square miles) and the United States (ranked as the fourth largest country in the world at 3,677,649 square miles) are only separated by a short distance but time wise are 21 hours apart. What is the travel distance between New Delhi, India and Moscow, Russia? How many miles is it from Moscow to New Delhi. 2700 miles / 4345.23 km is the flight distance between these two places. Use the Distance calculator given below to find distance between any two cities or places. Time and Distance. The route from India to Russia is extremely long, potentially covering thousands of kilometers and taking weeks, if not months, to complete. The precise duration will vary depending on your chosen route, the number of days you allocate for driving each day, and how often you stop to explore different places. Time difference between India and Russia including per hour local time conversion table. World Time Zone Map. Time Converter. India to Russia. 24 timezones tz. e.g. India, London, Japan. World Time. World Clock. Cities Countries GMT time UTC time AM and PM. Time zone conveter Area Codes. United States Canada. The time taken will come down to 24 days compared to more than 40 that it currently takes to transport goods from India to Far East Russia via Europe. The current trade route between Mumbai and St Petersburg in Russia covers a distance of 8,675 nautical miles, and the time taken for transportation is around 35 to 40 days.\n",
      "=================================\u001b[1m Tool Message \u001b[0m=================================\n",
      "Name: kilometers_to_miles\n",
      "\n",
      "3398.277999\n",
      "=================================\u001b[1m Tool Message \u001b[0m=================================\n",
      "Name: duckduckgo_search\n",
      "\n",
      "This geographic point lies between the two islands that are the closest lands between the United States and Russia. Known as the Diomede Islands, this pair of islands is located between the coast of Alaska, United States, and midland Siberia which is part of Russia. What is the shortest distance from the United States to Russia? Moscow, Russia to New Delhi, India distance • How many miles / kilometer from New Delhi to Moscow? Travel direction, route map & air travel distance between New Delhi and Moscow. The absolute closest distance between the United States and Russia is a mere 2.4 miles (3.86 kilometers). This surprisingly short span exists between two small islands in the Bering Strait— Little Diomede Island, part of Alaska, USA, and Big Diomede Island, belonging to Russia. These … What is the closest distance between US and Russia? The Reality of Driving from India to Russia While the idea of a road trip spanning continents is undeniably appealing, practicalities dictate that this is no ordinary drive. This isn't just a matter of hopping in your car and pointing it north. The sheer distances involved, coupled with varying road conditions, border crossings, and the requirement for specific vehicle documentation and ... India-Russia relationship continues to expand and deepen in the backdrop of a dynamic world order, External Affairs Minister (EAM) S. Jaishankar stated on Thursday at the international conference...\n",
      "=================================\u001b[1m Tool Message \u001b[0m=================================\n",
      "Name: kilometers_to_miles\n",
      "\n",
      "3398.277999\n",
      "==================================\u001b[1m Ai Message \u001b[0m==================================\n",
      "\n",
      " The distance between New Delhi, India and Moscow, Russia is approximately 5469 kilometers or 3398.28 miles.\n"
     ]
    }
   ],
   "source": [
    "for m in messages['messages']:\n",
    "    m.pretty_print()"
   ]
  },
  {
   "cell_type": "code",
   "execution_count": null,
   "metadata": {},
   "outputs": [],
   "source": []
  }
 ],
 "metadata": {
  "kernelspec": {
   "display_name": "langgraphenv",
   "language": "python",
   "name": "python3"
  },
  "language_info": {
   "codemirror_mode": {
    "name": "ipython",
    "version": 3
   },
   "file_extension": ".py",
   "mimetype": "text/x-python",
   "name": "python",
   "nbconvert_exporter": "python",
   "pygments_lexer": "ipython3",
   "version": "3.11.7"
  }
 },
 "nbformat": 4,
 "nbformat_minor": 2
}
